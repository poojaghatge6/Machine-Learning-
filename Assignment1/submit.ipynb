{
 "cells": [
  {
   "cell_type": "code",
   "execution_count": 15,
   "metadata": {},
   "outputs": [
    {
     "name": "stdout",
     "output_type": "stream",
     "text": [
      "Populating the interactive namespace from numpy and matplotlib\n"
     ]
    },
    {
     "data": {
      "text/plain": [
       "<matplotlib.legend.Legend at 0x11b2bdd0cc0>"
      ]
     },
     "execution_count": 15,
     "metadata": {},
     "output_type": "execute_result"
    },
    {
     "data": {
      "image/png": "[encoded data removed]",
      "text/plain": [
       "<matplotlib.figure.Figure at 0x11b2677e668>"
      ]
     },
     "metadata": {},
     "output_type": "display_data"
    }
   ],
   "source": [
    "import pandas as pd\n",
    "from sklearn.neighbors import NearestNeighbors\n",
    "import numpy as np\n",
    "from sklearn.decomposition import PCA\n",
    "%pylab inline\n",
    "import matplotlib.pyplot as plt\n",
    "\n",
    "def convert(imgf, n):\n",
    "    f = open(imgf, \"rb\")\n",
    "\n",
    "    f.read(16)\n",
    "    images = []\n",
    "\n",
    "    for i in range(n):\n",
    "        image=[]\n",
    "        for j in range(28*28):\n",
    "            image.append(ord(f.read(1))) \n",
    "        images.append(image)\n",
    "    df=pd.DataFrame(images)\n",
    "    f.close()\n",
    "    return df\n",
    "\n",
    "def Neighbours(n,X):\n",
    "    nbrs = NearestNeighbors(n_neighbors=n, algorithm='ball_tree',metric='euclidean').fit(X)\n",
    "    distances, indices = nbrs.kneighbors(X)\n",
    "    return distances, indices\n",
    "\n",
    "def Intersection(array1, array2):\n",
    "    Intersection = np.empty([ array1.shape[0]])\n",
    "    for i in range(0, array1.shape[0]):\n",
    "        Intersection[i] = len( set(array1[i]).intersection(array2[i]) )\n",
    "    return Intersection\n",
    "    \n",
    "def DifferentK_random(k):\n",
    "    R=np.random.randn(k, 784)\n",
    "    R=pd.DataFrame(R)\n",
    "    Xnew=R.dot(X)\n",
    "    Xnew=pd.DataFrame(Xnew)\n",
    "    distances10_new, indices10_new=Neighbours(10,Xnew.T)\n",
    "    distances50_new, indices50_new=Neighbours(50,Xnew.T)\n",
    "    intersect10=Intersection(indices10,indices10_new)\n",
    "    intersect50=Intersection(indices50,indices50_new)\n",
    "    score10=intersect10.sum()/n\n",
    "    score50=intersect50.sum()/n\n",
    "    return score10,score50\n",
    "    \n",
    "def DifferentK_PCA(k):\n",
    "    pca = PCA(n_components=k)\n",
    "    Xnew=pca.fit_transform(X.T, y=None)\n",
    "    Xnew=pd.DataFrame(Xnew)\n",
    "    distances10_new, indices10_new=Neighbours(10,Xnew)\n",
    "    distances50_new, indices50_new=Neighbours(50,Xnew)\n",
    "    intersect10=Intersection(indices10,indices10_new)\n",
    "    intersect50=Intersection(indices50,indices50_new)\n",
    "    score10=intersect10.sum()/n\n",
    "    score50=intersect50.sum()/n\n",
    "    return score10,score50\n",
    "\n",
    "df=convert(\"t10k-images.idx3-ubyte\", 10000)\n",
    "df=(df.T)\n",
    "n=2000\n",
    "X=df.iloc[:,0:n]\n",
    "distances10, indices10=Neighbours(10,X.T)\n",
    "distances50, indices50=Neighbours(50,X.T)\n",
    "k=[1,10,50,100,250,500]\n",
    "score10=[]\n",
    "score50=[]\n",
    "score10_pca=[]\n",
    "score50_pca=[]\n",
    "for i in k:\n",
    "    x,y=DifferentK_random(i)\n",
    "    score10.append(x)\n",
    "    score50.append(y)\n",
    "for i in k:\n",
    "    x,y=DifferentK_PCA(i)\n",
    "    score10_pca.append(x)\n",
    "    score50_pca.append(y)    \n",
    "\n",
    "plot(score10, k, 'r',label='score10')\n",
    "plot(score50, k, 'b',label='score50')\n",
    "plot(score10_pca, k, 'g',label='score10_pca')\n",
    "plot(score50_pca, k, 'y',label='score50_pca')\n",
    "\n",
    "xlabel('Common nearest neighbours')\n",
    "ylabel('Value of K')\n",
    "title('Effect of k on number of intersections')\n",
    "\n",
    "legend(loc=0)"
   ]
  }
 ],
 "metadata": {
  "kernelspec": {
   "display_name": "Python 3",
   "language": "python",
   "name": "python3"
  },
  "language_info": {
   "codemirror_mode": {
    "name": "ipython",
    "version": 3
   },
   "file_extension": ".py",
   "mimetype": "text/x-python",
   "name": "python",
   "nbconvert_exporter": "python",
   "pygments_lexer": "ipython3",
   "version": "3.6.3"
  }
 },
 "nbformat": 4,
 "nbformat_minor": 2
}
